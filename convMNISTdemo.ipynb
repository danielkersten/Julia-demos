{
 "cells": [
  {
   "cell_type": "markdown",
   "metadata": {},
   "source": [
    "# Simple Convolutional Neural Network classification demo"
   ]
  },
  {
   "cell_type": "markdown",
   "metadata": {},
   "source": [
    "Using the MNIST dataset. For the example using gpu's see: https://nextjournal.com/sdanisch/julia-gpu-programming"
   ]
  },
  {
   "cell_type": "markdown",
   "metadata": {},
   "source": [
    "If you haven't done it yet, you'll need to install the packages below."
   ]
  },
  {
   "cell_type": "code",
   "execution_count": null,
   "metadata": {},
   "outputs": [],
   "source": [
    "#using Pkg\n",
    "#Pkg.add(Flux)\n",
    "#etc., \n",
    "\n",
    "#or install using repo mode:\n",
    "\n",
    "#] add Flux\n",
    "#] add Flux ImageMagick\n",
    "#] add Flux QuartzImageIO\n",
    "#] add FileIO\n",
    "#] add ImageShow"
   ]
  },
  {
   "cell_type": "code",
   "execution_count": null,
   "metadata": {},
   "outputs": [],
   "source": [
    "using Flux, Flux.Data.MNIST, Statistics\n",
    "using Flux: onehotbatch, onecold, crossentropy, throttle\n",
    "using Base.Iterators: repeated, partition"
   ]
  },
  {
   "cell_type": "code",
   "execution_count": null,
   "metadata": {},
   "outputs": [],
   "source": [
    "# Read in MNIST digits, set up training set\n",
    "\n",
    "imgs = MNIST.images()\n",
    "\n",
    "labels = onehotbatch(MNIST.labels(), 0:9)\n",
    "\n",
    "# Partition into batches of size 1,000\n",
    "train = [(cat(float.(imgs[i])..., dims = 4), labels[:,i])\n",
    "         for i in partition(1:60_000, 1000)]"
   ]
  },
  {
   "cell_type": "code",
   "execution_count": null,
   "metadata": {},
   "outputs": [],
   "source": [
    "# Prepare test set (first 1,000 images)\n",
    "tX = cat(float.(MNIST.images(:test)[1:1000])..., dims = 4)\n",
    "tY = onehotbatch(MNIST.labels(:test)[1:1000], 0:9)"
   ]
  },
  {
   "cell_type": "markdown",
   "metadata": {},
   "source": [
    "Set up network architecture, define the loss function"
   ]
  },
  {
   "cell_type": "code",
   "execution_count": 5,
   "metadata": {},
   "outputs": [],
   "source": [
    "m = Chain(\n",
    "  Conv((2,2), 1=>16, relu),\n",
    "  x -> maxpool(x, (2,2)),\n",
    "  Conv((2,2), 16=>8, relu),\n",
    "  x -> maxpool(x, (2,2)),\n",
    "  x -> reshape(x, :, size(x, 4)),\n",
    "  Dense(288, 10), softmax)\n",
    "\n",
    "#m(train[1][1])\n",
    "\n",
    "loss(x, y) = crossentropy(m(x), y)\n",
    "\n",
    "accuracy(x, y) = mean(onecold(m(x)) .== onecold(y))\n",
    "\n",
    "evalcb = throttle(() -> @show(accuracy(tX, tY)), 10)\n",
    "opt = ADAM(Flux.params(m));"
   ]
  },
  {
   "cell_type": "code",
   "execution_count": 6,
   "metadata": {},
   "outputs": [
    {
     "name": "stdout",
     "output_type": "stream",
     "text": [
      "accuracy(tX, tY) = 0.084\n",
      "accuracy(tX, tY) = 0.199\n",
      "accuracy(tX, tY) = 0.376\n",
      "accuracy(tX, tY) = 0.563\n",
      "accuracy(tX, tY) = 0.68\n",
      "accuracy(tX, tY) = 0.719\n",
      "accuracy(tX, tY) = 0.774\n",
      "accuracy(tX, tY) = 0.799\n"
     ]
    }
   ],
   "source": [
    "#To keep it quick, run only 2 batches\n",
    "# train\n",
    "for i = 1:2\n",
    "    Flux.train!(loss, train, opt, cb = evalcb)\n",
    "end"
   ]
  },
  {
   "cell_type": "markdown",
   "metadata": {},
   "source": [
    "Test an image"
   ]
  },
  {
   "cell_type": "code",
   "execution_count": null,
   "metadata": {},
   "outputs": [],
   "source": [
    "using Colors, FileIO, ImageShow\n",
    "N = 22\n",
    "img = tX[:, :, 1:1, N:N]\n",
    "println(\"Predicted: \", Flux.onecold(m(img)) .- 1)\n",
    "Gray.(collect(tX[:, :, 1, N]))"
   ]
  },
  {
   "cell_type": "code",
   "execution_count": null,
   "metadata": {},
   "outputs": [],
   "source": []
  }
 ],
 "metadata": {
  "kernelspec": {
   "display_name": "Julia 1.0.1",
   "language": "julia",
   "name": "julia-1.0"
  },
  "language_info": {
   "file_extension": ".jl",
   "mimetype": "application/julia",
   "name": "julia",
   "version": "1.0.1"
  }
 },
 "nbformat": 4,
 "nbformat_minor": 2
}
